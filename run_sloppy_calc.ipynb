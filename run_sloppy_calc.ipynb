{
 "metadata": {
  "name": "",
  "signature": "sha256:2264741d29464666b43ebb3e246e0e8d5dff890c4c56020703b7c43a53d285d0"
 },
 "nbformat": 3,
 "nbformat_minor": 0,
 "worksheets": [
  {
   "cells": [
    {
     "cell_type": "code",
     "collapsed": false,
     "input": [
      "%matplotlib inline"
     ],
     "language": "python",
     "metadata": {},
     "outputs": [],
     "prompt_number": 1
    },
    {
     "cell_type": "code",
     "collapsed": false,
     "input": [
      "def conc_mass(logmass, model):\n",
      "\n",
      "    if model=='dutton_macchio14':\n",
      "        if logmass < 10:\n",
      "            conc=4\n",
      "        else:\n",
      "            conc = 0.25*logmass**0.1\n",
      "    # Some other model is default\n",
      "    else:\n",
      "        if logmass < 10:\n",
      "            conc=4\n",
      "        else:\n",
      "            conc = 4.*logmass/4\n",
      "\n",
      "    return conc"
     ],
     "language": "python",
     "metadata": {},
     "outputs": [],
     "prompt_number": 2
    },
    {
     "cell_type": "code",
     "collapsed": false,
     "input": [
      "mass = 1e12\n",
      "print \"concentration = \", conc_mass(mass,'dutton_macchio14')"
     ],
     "language": "python",
     "metadata": {},
     "outputs": [
      {
       "output_type": "stream",
       "stream": "stdout",
       "text": [
        "concentration =  3.96223298115\n"
       ]
      }
     ],
     "prompt_number": 3
    },
    {
     "cell_type": "markdown",
     "metadata": {},
     "source": [
      "That's a reasonable value. Let's try a few more. "
     ]
    },
    {
     "cell_type": "code",
     "collapsed": false,
     "input": [
      "mass = [1e12, 1e14, 1e15]\n",
      "print \"concentration = \", conc_mass(mass,'dutton_macchio14')"
     ],
     "language": "python",
     "metadata": {},
     "outputs": [
      {
       "output_type": "stream",
       "stream": "stdout",
       "text": [
        " concentration = "
       ]
      },
      {
       "ename": "TypeError",
       "evalue": "unsupported operand type(s) for ** or pow(): 'list' and 'float'",
       "output_type": "pyerr",
       "traceback": [
        "\u001b[0;31m---------------------------------------------------------------------------\u001b[0m\n\u001b[0;31mTypeError\u001b[0m                                 Traceback (most recent call last)",
        "\u001b[0;32m<ipython-input-5-f53d03abca9f>\u001b[0m in \u001b[0;36m<module>\u001b[0;34m()\u001b[0m\n\u001b[1;32m      1\u001b[0m \u001b[0mmass\u001b[0m \u001b[0;34m=\u001b[0m \u001b[0;34m[\u001b[0m\u001b[0;36m1e12\u001b[0m\u001b[0;34m,\u001b[0m \u001b[0;36m1e14\u001b[0m\u001b[0;34m,\u001b[0m \u001b[0;36m1e15\u001b[0m\u001b[0;34m]\u001b[0m\u001b[0;34m\u001b[0m\u001b[0m\n\u001b[0;32m----> 2\u001b[0;31m \u001b[0;32mprint\u001b[0m \u001b[0;34m\"concentration = \"\u001b[0m\u001b[0;34m,\u001b[0m \u001b[0mconc_mass\u001b[0m\u001b[0;34m(\u001b[0m\u001b[0mmass\u001b[0m\u001b[0;34m,\u001b[0m\u001b[0;34m'dutton_macchio14'\u001b[0m\u001b[0;34m)\u001b[0m\u001b[0;34m\u001b[0m\u001b[0m\n\u001b[0m",
        "\u001b[0;32m<ipython-input-2-e5b084c13a4c>\u001b[0m in \u001b[0;36mconc_mass\u001b[0;34m(logmass, model)\u001b[0m\n\u001b[1;32m      5\u001b[0m             \u001b[0mconc\u001b[0m\u001b[0;34m=\u001b[0m\u001b[0;36m4\u001b[0m\u001b[0;34m\u001b[0m\u001b[0m\n\u001b[1;32m      6\u001b[0m         \u001b[0;32melse\u001b[0m\u001b[0;34m:\u001b[0m\u001b[0;34m\u001b[0m\u001b[0m\n\u001b[0;32m----> 7\u001b[0;31m             \u001b[0mconc\u001b[0m \u001b[0;34m=\u001b[0m \u001b[0;36m0.25\u001b[0m\u001b[0;34m*\u001b[0m\u001b[0mlogmass\u001b[0m\u001b[0;34m**\u001b[0m\u001b[0;36m0.1\u001b[0m\u001b[0;34m\u001b[0m\u001b[0m\n\u001b[0m\u001b[1;32m      8\u001b[0m     \u001b[0;31m# Some other model is default\u001b[0m\u001b[0;34m\u001b[0m\u001b[0;34m\u001b[0m\u001b[0m\n\u001b[1;32m      9\u001b[0m     \u001b[0;32melse\u001b[0m\u001b[0;34m:\u001b[0m\u001b[0;34m\u001b[0m\u001b[0m\n",
        "\u001b[0;31mTypeError\u001b[0m: unsupported operand type(s) for ** or pow(): 'list' and 'float'"
       ]
      }
     ],
     "prompt_number": 5
    },
    {
     "cell_type": "markdown",
     "metadata": {},
     "source": [
      "Oh, right, exponentiation doesn't broadcast to each element of a pure python list; you need a Numpy array for that. Simple fix: just convert *logmass* to a Numpy array before exponentiating. That'll fix the problem. "
     ]
    },
    {
     "cell_type": "code",
     "collapsed": false,
     "input": [
      "def conc_mass(logmass, model):\n",
      "\n",
      "    if model=='dutton_macchio14':\n",
      "        if logmass < 10:\n",
      "            conc=4\n",
      "        else:\n",
      "            conc = 0.25*np.array(logmass)**0.1\n",
      "    # Some other model is default\n",
      "    else:\n",
      "        if logmass < 10:\n",
      "            conc=4\n",
      "        else:\n",
      "            conc = 4.*logmass/4\n",
      "\n",
      "    return conc"
     ],
     "language": "python",
     "metadata": {},
     "outputs": [
      {
       "output_type": "stream",
       "stream": "stdout",
       "text": [
        "\n"
       ]
      }
     ],
     "prompt_number": 6
    },
    {
     "cell_type": "code",
     "collapsed": false,
     "input": [
      "mass = [1e12, 1e14, 1e15]\n",
      "print \"concentration = \", conc_mass(mass,'dutton_macchio14')"
     ],
     "language": "python",
     "metadata": {},
     "outputs": [
      {
       "output_type": "stream",
       "stream": "stdout",
       "text": [
        "concentration =  [ 3.96223298  6.27971608  7.90569415]\n"
       ]
      }
     ],
     "prompt_number": 8
    },
    {
     "cell_type": "markdown",
     "metadata": {},
     "source": [
      "Ok, so those values seem reasonable, too. Notice that nothing in either of these tests reveals that our function is written in logarithmic units, so we haven't *actually* tested whether our code is giving reasonable values, since it's being given *unreasonable* inputs. \n",
      "\n",
      "When we figure that out, maybe we'll put in *print* and *break* statements inside the meat of one of our *if...else* conditionals. \n",
      "\n",
      "### But here's the problem: \n",
      "What happens when we add in another concentration model? *We have to do all these same stupid checks all over again! Nuts to that!*"
     ]
    }
   ],
   "metadata": {}
  }
 ]
}