{
 "metadata": {
  "name": "",
  "signature": "sha256:ea25a23475aa59f2e2c1e80d54737229f9f1b2bce2c077856ece311da833e447"
 },
 "nbformat": 3,
 "nbformat_minor": 0,
 "worksheets": [
  {
   "cells": [
    {
     "cell_type": "code",
     "collapsed": false,
     "input": [
      "import conc_mass_refactored as cmr\n",
      "import numpy as np"
     ],
     "language": "python",
     "metadata": {},
     "outputs": [],
     "prompt_number": 1
    },
    {
     "cell_type": "code",
     "collapsed": false,
     "input": [
      "mass = 1.e12\n",
      "conc = cmr.conc_mass(mass)\n",
      "print conc"
     ],
     "language": "python",
     "metadata": {},
     "outputs": [
      {
       "output_type": "stream",
       "stream": "stdout",
       "text": [
        "218776.162395\n"
       ]
      }
     ],
     "prompt_number": 2
    },
    {
     "cell_type": "markdown",
     "metadata": {},
     "source": [
      "Hmm, that's not a reasonable value for concentration. Let's see try again in testmode. "
     ]
    },
    {
     "cell_type": "code",
     "collapsed": false,
     "input": [
      "conc = cmr.conc_mass(mass, testmode=True)"
     ],
     "language": "python",
     "metadata": {},
     "outputs": [
      {
       "ename": "ValueError",
       "evalue": "When calling function conc_mass,\nat least one element of the input array logmass\nis outside the reasonable range of 0.1 to 100.0 \n",
       "output_type": "pyerr",
       "traceback": [
        "\u001b[0;31m---------------------------------------------------------------------------\u001b[0m\n\u001b[0;31mValueError\u001b[0m                                Traceback (most recent call last)",
        "\u001b[0;32m<ipython-input-3-a3e060cd8a88>\u001b[0m in \u001b[0;36m<module>\u001b[0;34m()\u001b[0m\n\u001b[0;32m----> 1\u001b[0;31m \u001b[0mconc\u001b[0m \u001b[0;34m=\u001b[0m \u001b[0mcmr\u001b[0m\u001b[0;34m.\u001b[0m\u001b[0mconc_mass\u001b[0m\u001b[0;34m(\u001b[0m\u001b[0mmass\u001b[0m\u001b[0;34m,\u001b[0m \u001b[0mtestmode\u001b[0m\u001b[0;34m=\u001b[0m\u001b[0mTrue\u001b[0m\u001b[0;34m)\u001b[0m\u001b[0;34m\u001b[0m\u001b[0m\n\u001b[0m",
        "\u001b[0;32m/Users/aphearin/work/random/0212/conc_mass_refactored.pyc\u001b[0m in \u001b[0;36mconc_mass\u001b[0;34m(logmass, modelname, testmode)\u001b[0m\n\u001b[1;32m     73\u001b[0m \t\ttest_helpers.test_sensible_values(\n\u001b[1;32m     74\u001b[0m                 \u001b[0mlogmass\u001b[0m\u001b[0;34m,\u001b[0m \u001b[0;36m0.1\u001b[0m\u001b[0;34m,\u001b[0m \u001b[0;36m100\u001b[0m\u001b[0;34m,\u001b[0m\u001b[0;34m\u001b[0m\u001b[0m\n\u001b[0;32m---> 75\u001b[0;31m \t\tcalled_funcname='conc_mass', array_name = 'logmass')\n\u001b[0m\u001b[1;32m     76\u001b[0m \u001b[0;34m\u001b[0m\u001b[0m\n\u001b[1;32m     77\u001b[0m         \u001b[0;31m# Grab the model we want based on the input modelname\u001b[0m\u001b[0;34m\u001b[0m\u001b[0;34m\u001b[0m\u001b[0m\n",
        "\u001b[0;32m/Users/aphearin/work/random/0212/test_helpers.py\u001b[0m in \u001b[0;36mtest_sensible_values\u001b[0;34m(array, minval, maxval, called_funcname, array_name)\u001b[0m\n\u001b[1;32m     15\u001b[0m \u001b[0;34m\u001b[0m\u001b[0m\n\u001b[1;32m     16\u001b[0m         \u001b[0;32mif\u001b[0m \u001b[0mnp\u001b[0m\u001b[0;34m.\u001b[0m\u001b[0many\u001b[0m\u001b[0;34m(\u001b[0m\u001b[0marray\u001b[0m \u001b[0;34m<\u001b[0m \u001b[0mminval\u001b[0m\u001b[0;34m)\u001b[0m \u001b[0;32mor\u001b[0m \u001b[0;34m(\u001b[0m\u001b[0mnp\u001b[0m\u001b[0;34m.\u001b[0m\u001b[0many\u001b[0m\u001b[0;34m(\u001b[0m\u001b[0marray\u001b[0m \u001b[0;34m>\u001b[0m \u001b[0mmaxval\u001b[0m\u001b[0;34m)\u001b[0m\u001b[0;34m)\u001b[0m\u001b[0;34m:\u001b[0m\u001b[0;34m\u001b[0m\u001b[0m\n\u001b[0;32m---> 17\u001b[0;31m                 \u001b[0;32mraise\u001b[0m \u001b[0mValueError\u001b[0m\u001b[0;34m(\u001b[0m\u001b[0mmsg\u001b[0m \u001b[0;34m%\u001b[0m \u001b[0;34m(\u001b[0m\u001b[0mminval\u001b[0m\u001b[0;34m,\u001b[0m \u001b[0mmaxval\u001b[0m\u001b[0;34m)\u001b[0m\u001b[0;34m)\u001b[0m\u001b[0;34m\u001b[0m\u001b[0m\n\u001b[0m\u001b[1;32m     18\u001b[0m \u001b[0;34m\u001b[0m\u001b[0m\n\u001b[1;32m     19\u001b[0m \u001b[0;32mdef\u001b[0m \u001b[0mget_array_like\u001b[0m\u001b[0;34m(\u001b[0m\u001b[0mx\u001b[0m\u001b[0;34m,\u001b[0m \u001b[0marray_name\u001b[0m\u001b[0;34m=\u001b[0m\u001b[0;34m''\u001b[0m\u001b[0;34m,\u001b[0m \u001b[0mcalled_funcname\u001b[0m\u001b[0;34m=\u001b[0m\u001b[0mNone\u001b[0m\u001b[0;34m)\u001b[0m\u001b[0;34m:\u001b[0m\u001b[0;34m\u001b[0m\u001b[0m\n",
        "\u001b[0;31mValueError\u001b[0m: When calling function conc_mass,\nat least one element of the input array logmass\nis outside the reasonable range of 0.1 to 100.0 \n"
       ]
      }
     ],
     "prompt_number": 3
    },
    {
     "cell_type": "markdown",
     "metadata": {},
     "source": [
      "Ahh, right. The conc_mass function wants logarithmic masses. "
     ]
    },
    {
     "cell_type": "code",
     "collapsed": false,
     "input": [
      "logmass = np.log10(1e15)\n",
      "conc = cmr.conc_mass(logmass, testmode=True)\n",
      "print \"concentration = \", conc"
     ],
     "language": "python",
     "metadata": {},
     "outputs": [
      {
       "output_type": "stream",
       "stream": "stdout",
       "text": [
        "No modelname provided. Choosing default = conc_mass_dutton_macchio14\n",
        "concentration =  3.33703383642\n"
       ]
      }
     ],
     "prompt_number": 4
    },
    {
     "cell_type": "markdown",
     "metadata": {},
     "source": [
      "That's more like it. \n",
      "\n",
      "### Now let's see how we handle Python list inputs. "
     ]
    },
    {
     "cell_type": "code",
     "collapsed": false,
     "input": [
      "logmass = [5.0, 16]\n",
      "conc = cmr.conc_mass(logmass)\n",
      "print \"concentration = \", conc"
     ],
     "language": "python",
     "metadata": {},
     "outputs": [
      {
       "output_type": "stream",
       "stream": "stdout",
       "text": [
        "concentration =  [ 4.          3.43426175]\n"
       ]
      },
      {
       "output_type": "stream",
       "stream": "stderr",
       "text": [
        "test_helpers.py:29: UserWarning: Array logmass should not be list or tuple\n",
        "Converting to ndarray\n",
        "In the future, use ndarray inputs for conc_mass\n",
        "This message will self-destruct\n",
        "\n",
        "  if type(x)==list or type(x)==tuple: warn(msg)\n"
       ]
      }
     ],
     "prompt_number": 5
    },
    {
     "cell_type": "code",
     "collapsed": false,
     "input": [
      "conc = cmr.conc_mass(logmass, testmode=True)"
     ],
     "language": "python",
     "metadata": {},
     "outputs": [
      {
       "output_type": "stream",
       "stream": "stdout",
       "text": [
        "No modelname provided. Choosing default = conc_mass_dutton_macchio14\n"
       ]
      }
     ],
     "prompt_number": 6
    },
    {
     "cell_type": "code",
     "collapsed": false,
     "input": [
      "logmass = np.random.uniform(5, 15, 1e6)\n",
      "conc_dm14 = cmr.conc_mass(logmass, modelname='dutton_macchio14')"
     ],
     "language": "python",
     "metadata": {},
     "outputs": [],
     "prompt_number": 7
    },
    {
     "cell_type": "code",
     "collapsed": false,
     "input": [
      "conc_whatever = cmr.conc_mass(logmass, modelname='whatever')"
     ],
     "language": "python",
     "metadata": {},
     "outputs": [],
     "prompt_number": 8
    },
    {
     "cell_type": "code",
     "collapsed": false,
     "input": [
      "conc_default = cmr.conc_mass(logmass)"
     ],
     "language": "python",
     "metadata": {},
     "outputs": [],
     "prompt_number": 9
    },
    {
     "cell_type": "code",
     "collapsed": false,
     "input": [
      "conc_default = cmr.conc_mass(logmass, testmode=True)"
     ],
     "language": "python",
     "metadata": {},
     "outputs": [
      {
       "output_type": "stream",
       "stream": "stdout",
       "text": [
        "No modelname provided. Choosing default = conc_mass_dutton_macchio14\n"
       ]
      }
     ],
     "prompt_number": 10
    },
    {
     "cell_type": "code",
     "collapsed": false,
     "input": [],
     "language": "python",
     "metadata": {},
     "outputs": [],
     "prompt_number": 10
    }
   ],
   "metadata": {}
  }
 ]
}